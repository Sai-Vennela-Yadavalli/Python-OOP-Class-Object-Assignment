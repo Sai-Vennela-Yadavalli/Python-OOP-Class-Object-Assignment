{
 "cells": [
  {
   "cell_type": "code",
   "execution_count": 1,
   "id": "09d89435-a50f-432b-85ff-6f433ebc41f8",
   "metadata": {},
   "outputs": [],
   "source": [
    "from Multiple_Functions_Library import Multiple_Functions"
   ]
  },
  {
   "cell_type": "code",
   "execution_count": 2,
   "id": "a8df8a3b-93cb-453c-9a6a-1a8107452c56",
   "metadata": {},
   "outputs": [
    {
     "name": "stdout",
     "output_type": "stream",
     "text": [
      "Sub-fields in AI are:\n",
      "Machine Learning\n",
      "Neural Networks\n",
      "Vision\n",
      "Robotics\n",
      "Speech Processing\n",
      "Natural Language Processing\n"
     ]
    }
   ],
   "source": [
    "Multiple_Functions.Subfields()"
   ]
  },
  {
   "cell_type": "code",
   "execution_count": 3,
   "id": "550626d1-b08f-4142-a78f-b0a2388a923f",
   "metadata": {},
   "outputs": [
    {
     "name": "stdin",
     "output_type": "stream",
     "text": [
      "Enter the number 83\n"
     ]
    },
    {
     "name": "stdout",
     "output_type": "stream",
     "text": [
      "83 is a Odd Number\n"
     ]
    },
    {
     "data": {
      "text/plain": [
       "'Odd Number'"
      ]
     },
     "execution_count": 3,
     "metadata": {},
     "output_type": "execute_result"
    }
   ],
   "source": [
    "Multiple_Functions. Odd_Even_check()"
   ]
  },
  {
   "cell_type": "code",
   "execution_count": 5,
   "id": "35e4a71e-4bbf-46b3-84c2-7b4a63812aa4",
   "metadata": {},
   "outputs": [
    {
     "name": "stdin",
     "output_type": "stream",
     "text": [
      "Your Gender Male\n",
      "Your Age 18\n"
     ]
    },
    {
     "name": "stdout",
     "output_type": "stream",
     "text": [
      "You are NOT ELIGIBLE\n"
     ]
    },
    {
     "data": {
      "text/plain": [
       "'YOU ARE NOT ELIGIBLE'"
      ]
     },
     "execution_count": 5,
     "metadata": {},
     "output_type": "execute_result"
    }
   ],
   "source": [
    "Multiple_Functions.eligible()"
   ]
  },
  {
   "cell_type": "code",
   "execution_count": null,
   "id": "4c73698a-1a4a-403a-b906-5d2e11fca427",
   "metadata": {},
   "outputs": [],
   "source": [
    "Multiple_Functions.percentage()"
   ]
  },
  {
   "cell_type": "code",
   "execution_count": null,
   "id": "0a2103be-f704-44cd-b3c3-9af4c2fcd371",
   "metadata": {},
   "outputs": [],
   "source": []
  }
 ],
 "metadata": {
  "kernelspec": {
   "display_name": "Python 3 (ipykernel)",
   "language": "python",
   "name": "python3"
  },
  "language_info": {
   "codemirror_mode": {
    "name": "ipython",
    "version": 3
   },
   "file_extension": ".py",
   "mimetype": "text/x-python",
   "name": "python",
   "nbconvert_exporter": "python",
   "pygments_lexer": "ipython3",
   "version": "3.12.7"
  }
 },
 "nbformat": 4,
 "nbformat_minor": 5
}
