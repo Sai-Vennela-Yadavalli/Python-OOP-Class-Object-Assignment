{
 "cells": [
  {
   "cell_type": "code",
   "execution_count": 5,
   "id": "ae84e802-db4b-49bb-acae-3c90a9dc9943",
   "metadata": {},
   "outputs": [],
   "source": [
    "class SubfieldsInAI():\n",
    "    def Subfields():\n",
    "        Lists = [\"Machine Learning\", \"Neural Networks\", \"Vision\", \"Robotics\", \"Speech Processing\", \"Natural Language Processing\"]\n",
    "        print(\"Sub-fields in AI are:\")\n",
    "        for i in Lists:\n",
    "            print(i)  "
   ]
  },
  {
   "cell_type": "code",
   "execution_count": 6,
   "id": "609a8d58-ee1f-4652-8035-f3a81640d5cc",
   "metadata": {},
   "outputs": [
    {
     "name": "stdout",
     "output_type": "stream",
     "text": [
      "Sub-fields in AI are:\n",
      "Machine Learning\n",
      "Neural Networks\n",
      "Vision\n",
      "Robotics\n",
      "Speech Processing\n",
      "Natural Language Processing\n"
     ]
    }
   ],
   "source": [
    "SubfieldsInAI.Subfields()"
   ]
  },
  {
   "cell_type": "code",
   "execution_count": 7,
   "id": "d6115765-6ea1-495b-aab9-d11227a80811",
   "metadata": {},
   "outputs": [],
   "source": [
    "class OddEven():\n",
    "    def Odd_Even_check():\n",
    "        num = int(input(\"Enter the number\"))\n",
    "        if (num%2) ==0:\n",
    "            print(num, \"is a Even Number\")\n",
    "            message = \"Even Number\"\n",
    "        else:\n",
    "            print(num, \"is a Odd Number\")\n",
    "            message = \"Odd Number\"\n",
    "        return message"
   ]
  },
  {
   "cell_type": "code",
   "execution_count": 9,
   "id": "23b525c5-ffe3-4639-a892-6a4769765c9b",
   "metadata": {},
   "outputs": [
    {
     "name": "stdin",
     "output_type": "stream",
     "text": [
      "Enter the number 59\n"
     ]
    },
    {
     "name": "stdout",
     "output_type": "stream",
     "text": [
      "59 is a Odd Number\n"
     ]
    },
    {
     "data": {
      "text/plain": [
       "'Odd Number'"
      ]
     },
     "execution_count": 9,
     "metadata": {},
     "output_type": "execute_result"
    }
   ],
   "source": [
    "OddEven.Odd_Even_check()"
   ]
  },
  {
   "cell_type": "code",
   "execution_count": 10,
   "id": "69345d4a-7c08-4b4e-9b63-cff2e28d7515",
   "metadata": {},
   "outputs": [],
   "source": [
    "class EligibilityForMarriage():\n",
    "    def eligible():\n",
    "        gender = input(\"Your Gender\")\n",
    "        age = int(input(\"Your Age\"))\n",
    "    \n",
    "        if gender == \"Male\" and age >=21:\n",
    "            print(\"You are Eligible\")\n",
    "            message = \"YOU ARE ELIGIBLE\"\n",
    "            \n",
    "        elif gender == \"Female\" and age >=18:\n",
    "            print(\"You are Eligible\")\n",
    "            message = \"YOU ARE ELIGIBLE\"\n",
    "        else:\n",
    "            print(\"You are NOT ELIGIBLE\")\n",
    "            message = \"YOU ARE NOT ELIGIBLE\"\n",
    "    \n",
    "        return message"
   ]
  },
  {
   "cell_type": "code",
   "execution_count": 11,
   "id": "782b6652-fb10-4200-8ff9-445b2fd0afc4",
   "metadata": {},
   "outputs": [
    {
     "name": "stdin",
     "output_type": "stream",
     "text": [
      "Your Gender Male\n",
      "Your Age 20\n"
     ]
    },
    {
     "name": "stdout",
     "output_type": "stream",
     "text": [
      "You are NOT ELIGIBLE\n"
     ]
    },
    {
     "data": {
      "text/plain": [
       "'YOU ARE NOT ELIGIBLE'"
      ]
     },
     "execution_count": 11,
     "metadata": {},
     "output_type": "execute_result"
    }
   ],
   "source": [
    "EligibilityForMarriage.eligible()"
   ]
  },
  {
   "cell_type": "code",
   "execution_count": 12,
   "id": "a041e2a2-437f-4d93-9240-4a5e22d43fcd",
   "metadata": {},
   "outputs": [],
   "source": [
    "class FindPercent():\n",
    "    def percentage():\n",
    "        marks1 = int(input(\"Subject1 = \"))\n",
    "        marks2 = int(input(\"Subject2 = \"))\n",
    "        marks3 = int(input(\"Subject3 = \"))\n",
    "        marks4 = int(input(\"Subject4 = \"))\n",
    "        marks5 = int(input(\"Subject5 = \"))\n",
    "    \n",
    "        Total = marks1 + marks2 + marks3 + marks4 + marks5\n",
    "        print(\"Total = \", Total)\n",
    "        Percentage = (Total/5)\n",
    "        print(\"Percentage = \", Percentage)"
   ]
  },
  {
   "cell_type": "code",
   "execution_count": 13,
   "id": "19a0ec01-fdd0-4f91-9cb8-3e0fd2e13c3e",
   "metadata": {},
   "outputs": [
    {
     "name": "stdin",
     "output_type": "stream",
     "text": [
      "Subject1 =  98\n",
      "Subject2 =  87\n",
      "Subject3 =  95\n",
      "Subject4 =  95\n",
      "Subject5 =  93\n"
     ]
    },
    {
     "name": "stdout",
     "output_type": "stream",
     "text": [
      "Total =  468\n",
      "Percentage =  93.6\n"
     ]
    }
   ],
   "source": [
    "FindPercent.percentage()"
   ]
  },
  {
   "cell_type": "code",
   "execution_count": 14,
   "id": "33cecdc7-0662-4d5a-b32d-d99b00790b81",
   "metadata": {},
   "outputs": [],
   "source": [
    "class Triangle():\n",
    "    def triangle():\n",
    "        height = int(input(\"Height = \"))\n",
    "        breadth = int(input(\"Breadth = \"))\n",
    "    \n",
    "        Area = (height*breadth)/2\n",
    "        print(\"Area of Triangle = \", Area)\n",
    "    \n",
    "        height1 = int(input(\"Height1 = \"))\n",
    "        height2 = int(input(\"Height2 = \"))\n",
    "        breadth1 = int(input(\"Breadth1 = \"))\n",
    "        Perimeter = height1 + height2 + breadth1\n",
    "        print(\"Perimeter of a Triangle = \", Perimeter)\n",
    "    "
   ]
  },
  {
   "cell_type": "code",
   "execution_count": 15,
   "id": "2d43afe3-d080-4677-9c0c-a517060362d2",
   "metadata": {},
   "outputs": [
    {
     "name": "stdin",
     "output_type": "stream",
     "text": [
      "Height =  32\n",
      "Breadth =  34\n"
     ]
    },
    {
     "name": "stdout",
     "output_type": "stream",
     "text": [
      "Area of Triangle =  544.0\n"
     ]
    },
    {
     "name": "stdin",
     "output_type": "stream",
     "text": [
      "Height1 =  2\n",
      "Height2 =  4\n",
      "Breadth1 =  4\n"
     ]
    },
    {
     "name": "stdout",
     "output_type": "stream",
     "text": [
      "Perimeter of a Triangle =  10\n"
     ]
    }
   ],
   "source": [
    "Triangle.triangle()"
   ]
  },
  {
   "cell_type": "code",
   "execution_count": null,
   "id": "d5d46893-0416-4788-8b5d-44d90b63d089",
   "metadata": {},
   "outputs": [],
   "source": []
  }
 ],
 "metadata": {
  "kernelspec": {
   "display_name": "Python 3 (ipykernel)",
   "language": "python",
   "name": "python3"
  },
  "language_info": {
   "codemirror_mode": {
    "name": "ipython",
    "version": 3
   },
   "file_extension": ".py",
   "mimetype": "text/x-python",
   "name": "python",
   "nbconvert_exporter": "python",
   "pygments_lexer": "ipython3",
   "version": "3.12.7"
  }
 },
 "nbformat": 4,
 "nbformat_minor": 5
}
